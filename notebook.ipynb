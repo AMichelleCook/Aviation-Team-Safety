{
 "cells": [
  {
   "cell_type": "markdown",
   "metadata": {},
   "source": [
    "# Business Understanding"
   ]
  },
  {
   "cell_type": "markdown",
   "metadata": {},
   "source": [
    "This project analyzes crash data to inform decision-making for Innovative Technologies, a tech company with offices in San Francisco and Seattle. Innovative Technologies teams often travel between these two cities, and they are considering purchasing their own plane(s) to use at local airports. For this decision they are mostly concerned with safety. "
   ]
  },
  {
   "cell_type": "markdown",
   "metadata": {},
   "source": [
    "To evaluate aviation safety I analyzed correlations between types of plane engine, severe injuries, weather, and human error. Our team can use this information to make informed decisions on safety issues when buying our company planes and hiring independent pilots. "
   ]
  },
  {
   "cell_type": "markdown",
   "metadata": {},
   "source": [
    "# Data Understanding "
   ]
  },
  {
   "cell_type": "code",
   "execution_count": 1,
   "metadata": {},
   "outputs": [],
   "source": [
    "import pandas as pd\n",
    "pd.set_option('display.max_columns', None)\n",
    "pd.set_option('display.max_rows', None)\n",
    "import matplotlib.pyplot as plt\n",
    "%matplotlib inline"
   ]
  },
  {
   "cell_type": "code",
   "execution_count": 2,
   "metadata": {},
   "outputs": [],
   "source": [
    "df=pd.read_csv('AviationData.csv', encoding = 'Windows-1252', dtype ={'Latitude':str, 'Longitude':str, 'Broad.phase.of.flight':str})"
   ]
  },
  {
   "cell_type": "markdown",
   "metadata": {},
   "source": [
    "# Aviation Crash Data"
   ]
  },
  {
   "cell_type": "markdown",
   "metadata": {},
   "source": [
    "These records range from 1982 to 2022 and includes information about the type of plane involved in each incident, as well as the date, geographical location, weather conditions, and other details about the flight. \n",
    "\n",
    "A closer look at number of injuries and severity, probable cause of events, and different engine types all provide information about each event and can give us information we can use to make decisions about how to implement our own aviation team. "
   ]
  },
  {
   "cell_type": "code",
   "execution_count": 3,
   "metadata": {},
   "outputs": [
    {
     "data": {
      "text/html": [
       "<div>\n",
       "<style scoped>\n",
       "    .dataframe tbody tr th:only-of-type {\n",
       "        vertical-align: middle;\n",
       "    }\n",
       "\n",
       "    .dataframe tbody tr th {\n",
       "        vertical-align: top;\n",
       "    }\n",
       "\n",
       "    .dataframe thead th {\n",
       "        text-align: right;\n",
       "    }\n",
       "</style>\n",
       "<table border=\"1\" class=\"dataframe\">\n",
       "  <thead>\n",
       "    <tr style=\"text-align: right;\">\n",
       "      <th></th>\n",
       "      <th>Event.Id</th>\n",
       "      <th>Investigation.Type</th>\n",
       "      <th>Accident.Number</th>\n",
       "      <th>Event.Date</th>\n",
       "      <th>Location</th>\n",
       "      <th>Country</th>\n",
       "      <th>Latitude</th>\n",
       "      <th>Longitude</th>\n",
       "      <th>Airport.Code</th>\n",
       "      <th>Airport.Name</th>\n",
       "      <th>Injury.Severity</th>\n",
       "      <th>Aircraft.damage</th>\n",
       "      <th>Aircraft.Category</th>\n",
       "      <th>Registration.Number</th>\n",
       "      <th>Make</th>\n",
       "      <th>Model</th>\n",
       "      <th>Amateur.Built</th>\n",
       "      <th>Number.of.Engines</th>\n",
       "      <th>Engine.Type</th>\n",
       "      <th>FAR.Description</th>\n",
       "      <th>Schedule</th>\n",
       "      <th>Purpose.of.flight</th>\n",
       "      <th>Air.carrier</th>\n",
       "      <th>Total.Fatal.Injuries</th>\n",
       "      <th>Total.Serious.Injuries</th>\n",
       "      <th>Total.Minor.Injuries</th>\n",
       "      <th>Total.Uninjured</th>\n",
       "      <th>Weather.Condition</th>\n",
       "      <th>Broad.phase.of.flight</th>\n",
       "      <th>Report.Status</th>\n",
       "      <th>Publication.Date</th>\n",
       "    </tr>\n",
       "  </thead>\n",
       "  <tbody>\n",
       "    <tr>\n",
       "      <th>0</th>\n",
       "      <td>20001218X45444</td>\n",
       "      <td>Accident</td>\n",
       "      <td>SEA87LA080</td>\n",
       "      <td>1948-10-24</td>\n",
       "      <td>MOOSE CREEK, ID</td>\n",
       "      <td>United States</td>\n",
       "      <td>NaN</td>\n",
       "      <td>NaN</td>\n",
       "      <td>NaN</td>\n",
       "      <td>NaN</td>\n",
       "      <td>Fatal(2)</td>\n",
       "      <td>Destroyed</td>\n",
       "      <td>NaN</td>\n",
       "      <td>NC6404</td>\n",
       "      <td>Stinson</td>\n",
       "      <td>108-3</td>\n",
       "      <td>No</td>\n",
       "      <td>1.0</td>\n",
       "      <td>Reciprocating</td>\n",
       "      <td>NaN</td>\n",
       "      <td>NaN</td>\n",
       "      <td>Personal</td>\n",
       "      <td>NaN</td>\n",
       "      <td>2.0</td>\n",
       "      <td>0.0</td>\n",
       "      <td>0.0</td>\n",
       "      <td>0.0</td>\n",
       "      <td>UNK</td>\n",
       "      <td>Cruise</td>\n",
       "      <td>Probable Cause</td>\n",
       "      <td>NaN</td>\n",
       "    </tr>\n",
       "    <tr>\n",
       "      <th>1</th>\n",
       "      <td>20001218X45447</td>\n",
       "      <td>Accident</td>\n",
       "      <td>LAX94LA336</td>\n",
       "      <td>1962-07-19</td>\n",
       "      <td>BRIDGEPORT, CA</td>\n",
       "      <td>United States</td>\n",
       "      <td>NaN</td>\n",
       "      <td>NaN</td>\n",
       "      <td>NaN</td>\n",
       "      <td>NaN</td>\n",
       "      <td>Fatal(4)</td>\n",
       "      <td>Destroyed</td>\n",
       "      <td>NaN</td>\n",
       "      <td>N5069P</td>\n",
       "      <td>Piper</td>\n",
       "      <td>PA24-180</td>\n",
       "      <td>No</td>\n",
       "      <td>1.0</td>\n",
       "      <td>Reciprocating</td>\n",
       "      <td>NaN</td>\n",
       "      <td>NaN</td>\n",
       "      <td>Personal</td>\n",
       "      <td>NaN</td>\n",
       "      <td>4.0</td>\n",
       "      <td>0.0</td>\n",
       "      <td>0.0</td>\n",
       "      <td>0.0</td>\n",
       "      <td>UNK</td>\n",
       "      <td>Unknown</td>\n",
       "      <td>Probable Cause</td>\n",
       "      <td>19-09-1996</td>\n",
       "    </tr>\n",
       "    <tr>\n",
       "      <th>2</th>\n",
       "      <td>20061025X01555</td>\n",
       "      <td>Accident</td>\n",
       "      <td>NYC07LA005</td>\n",
       "      <td>1974-08-30</td>\n",
       "      <td>Saltville, VA</td>\n",
       "      <td>United States</td>\n",
       "      <td>36.922223</td>\n",
       "      <td>-81.878056</td>\n",
       "      <td>NaN</td>\n",
       "      <td>NaN</td>\n",
       "      <td>Fatal(3)</td>\n",
       "      <td>Destroyed</td>\n",
       "      <td>NaN</td>\n",
       "      <td>N5142R</td>\n",
       "      <td>Cessna</td>\n",
       "      <td>172M</td>\n",
       "      <td>No</td>\n",
       "      <td>1.0</td>\n",
       "      <td>Reciprocating</td>\n",
       "      <td>NaN</td>\n",
       "      <td>NaN</td>\n",
       "      <td>Personal</td>\n",
       "      <td>NaN</td>\n",
       "      <td>3.0</td>\n",
       "      <td>NaN</td>\n",
       "      <td>NaN</td>\n",
       "      <td>NaN</td>\n",
       "      <td>IMC</td>\n",
       "      <td>Cruise</td>\n",
       "      <td>Probable Cause</td>\n",
       "      <td>26-02-2007</td>\n",
       "    </tr>\n",
       "    <tr>\n",
       "      <th>3</th>\n",
       "      <td>20001218X45448</td>\n",
       "      <td>Accident</td>\n",
       "      <td>LAX96LA321</td>\n",
       "      <td>1977-06-19</td>\n",
       "      <td>EUREKA, CA</td>\n",
       "      <td>United States</td>\n",
       "      <td>NaN</td>\n",
       "      <td>NaN</td>\n",
       "      <td>NaN</td>\n",
       "      <td>NaN</td>\n",
       "      <td>Fatal(2)</td>\n",
       "      <td>Destroyed</td>\n",
       "      <td>NaN</td>\n",
       "      <td>N1168J</td>\n",
       "      <td>Rockwell</td>\n",
       "      <td>112</td>\n",
       "      <td>No</td>\n",
       "      <td>1.0</td>\n",
       "      <td>Reciprocating</td>\n",
       "      <td>NaN</td>\n",
       "      <td>NaN</td>\n",
       "      <td>Personal</td>\n",
       "      <td>NaN</td>\n",
       "      <td>2.0</td>\n",
       "      <td>0.0</td>\n",
       "      <td>0.0</td>\n",
       "      <td>0.0</td>\n",
       "      <td>IMC</td>\n",
       "      <td>Cruise</td>\n",
       "      <td>Probable Cause</td>\n",
       "      <td>12-09-2000</td>\n",
       "    </tr>\n",
       "    <tr>\n",
       "      <th>4</th>\n",
       "      <td>20041105X01764</td>\n",
       "      <td>Accident</td>\n",
       "      <td>CHI79FA064</td>\n",
       "      <td>1979-08-02</td>\n",
       "      <td>Canton, OH</td>\n",
       "      <td>United States</td>\n",
       "      <td>NaN</td>\n",
       "      <td>NaN</td>\n",
       "      <td>NaN</td>\n",
       "      <td>NaN</td>\n",
       "      <td>Fatal(1)</td>\n",
       "      <td>Destroyed</td>\n",
       "      <td>NaN</td>\n",
       "      <td>N15NY</td>\n",
       "      <td>Cessna</td>\n",
       "      <td>501</td>\n",
       "      <td>No</td>\n",
       "      <td>NaN</td>\n",
       "      <td>NaN</td>\n",
       "      <td>NaN</td>\n",
       "      <td>NaN</td>\n",
       "      <td>Personal</td>\n",
       "      <td>NaN</td>\n",
       "      <td>1.0</td>\n",
       "      <td>2.0</td>\n",
       "      <td>NaN</td>\n",
       "      <td>0.0</td>\n",
       "      <td>VMC</td>\n",
       "      <td>Approach</td>\n",
       "      <td>Probable Cause</td>\n",
       "      <td>16-04-1980</td>\n",
       "    </tr>\n",
       "  </tbody>\n",
       "</table>\n",
       "</div>"
      ],
      "text/plain": [
       "         Event.Id Investigation.Type Accident.Number  Event.Date  \\\n",
       "0  20001218X45444           Accident      SEA87LA080  1948-10-24   \n",
       "1  20001218X45447           Accident      LAX94LA336  1962-07-19   \n",
       "2  20061025X01555           Accident      NYC07LA005  1974-08-30   \n",
       "3  20001218X45448           Accident      LAX96LA321  1977-06-19   \n",
       "4  20041105X01764           Accident      CHI79FA064  1979-08-02   \n",
       "\n",
       "          Location        Country   Latitude   Longitude Airport.Code  \\\n",
       "0  MOOSE CREEK, ID  United States        NaN         NaN          NaN   \n",
       "1   BRIDGEPORT, CA  United States        NaN         NaN          NaN   \n",
       "2    Saltville, VA  United States  36.922223  -81.878056          NaN   \n",
       "3       EUREKA, CA  United States        NaN         NaN          NaN   \n",
       "4       Canton, OH  United States        NaN         NaN          NaN   \n",
       "\n",
       "  Airport.Name Injury.Severity Aircraft.damage Aircraft.Category  \\\n",
       "0          NaN        Fatal(2)       Destroyed               NaN   \n",
       "1          NaN        Fatal(4)       Destroyed               NaN   \n",
       "2          NaN        Fatal(3)       Destroyed               NaN   \n",
       "3          NaN        Fatal(2)       Destroyed               NaN   \n",
       "4          NaN        Fatal(1)       Destroyed               NaN   \n",
       "\n",
       "  Registration.Number      Make     Model Amateur.Built  Number.of.Engines  \\\n",
       "0              NC6404   Stinson     108-3            No                1.0   \n",
       "1              N5069P     Piper  PA24-180            No                1.0   \n",
       "2              N5142R    Cessna      172M            No                1.0   \n",
       "3              N1168J  Rockwell       112            No                1.0   \n",
       "4               N15NY    Cessna       501            No                NaN   \n",
       "\n",
       "     Engine.Type FAR.Description Schedule Purpose.of.flight Air.carrier  \\\n",
       "0  Reciprocating             NaN      NaN          Personal         NaN   \n",
       "1  Reciprocating             NaN      NaN          Personal         NaN   \n",
       "2  Reciprocating             NaN      NaN          Personal         NaN   \n",
       "3  Reciprocating             NaN      NaN          Personal         NaN   \n",
       "4            NaN             NaN      NaN          Personal         NaN   \n",
       "\n",
       "   Total.Fatal.Injuries  Total.Serious.Injuries  Total.Minor.Injuries  \\\n",
       "0                   2.0                     0.0                   0.0   \n",
       "1                   4.0                     0.0                   0.0   \n",
       "2                   3.0                     NaN                   NaN   \n",
       "3                   2.0                     0.0                   0.0   \n",
       "4                   1.0                     2.0                   NaN   \n",
       "\n",
       "   Total.Uninjured Weather.Condition Broad.phase.of.flight   Report.Status  \\\n",
       "0              0.0               UNK                Cruise  Probable Cause   \n",
       "1              0.0               UNK               Unknown  Probable Cause   \n",
       "2              NaN               IMC                Cruise  Probable Cause   \n",
       "3              0.0               IMC                Cruise  Probable Cause   \n",
       "4              0.0               VMC              Approach  Probable Cause   \n",
       "\n",
       "  Publication.Date  \n",
       "0              NaN  \n",
       "1       19-09-1996  \n",
       "2       26-02-2007  \n",
       "3       12-09-2000  \n",
       "4       16-04-1980  "
      ]
     },
     "execution_count": 3,
     "metadata": {},
     "output_type": "execute_result"
    }
   ],
   "source": [
    "df.head(5)"
   ]
  },
  {
   "cell_type": "code",
   "execution_count": 4,
   "metadata": {},
   "outputs": [
    {
     "name": "stdout",
     "output_type": "stream",
     "text": [
      "<class 'pandas.core.frame.DataFrame'>\n",
      "RangeIndex: 88889 entries, 0 to 88888\n",
      "Data columns (total 31 columns):\n",
      " #   Column                  Non-Null Count  Dtype  \n",
      "---  ------                  --------------  -----  \n",
      " 0   Event.Id                88889 non-null  object \n",
      " 1   Investigation.Type      88889 non-null  object \n",
      " 2   Accident.Number         88889 non-null  object \n",
      " 3   Event.Date              88889 non-null  object \n",
      " 4   Location                88837 non-null  object \n",
      " 5   Country                 88663 non-null  object \n",
      " 6   Latitude                34382 non-null  object \n",
      " 7   Longitude               34373 non-null  object \n",
      " 8   Airport.Code            50132 non-null  object \n",
      " 9   Airport.Name            52704 non-null  object \n",
      " 10  Injury.Severity         87889 non-null  object \n",
      " 11  Aircraft.damage         85695 non-null  object \n",
      " 12  Aircraft.Category       32287 non-null  object \n",
      " 13  Registration.Number     87507 non-null  object \n",
      " 14  Make                    88826 non-null  object \n",
      " 15  Model                   88797 non-null  object \n",
      " 16  Amateur.Built           88787 non-null  object \n",
      " 17  Number.of.Engines       82805 non-null  float64\n",
      " 18  Engine.Type             81793 non-null  object \n",
      " 19  FAR.Description         32023 non-null  object \n",
      " 20  Schedule                12582 non-null  object \n",
      " 21  Purpose.of.flight       82697 non-null  object \n",
      " 22  Air.carrier             16648 non-null  object \n",
      " 23  Total.Fatal.Injuries    77488 non-null  float64\n",
      " 24  Total.Serious.Injuries  76379 non-null  float64\n",
      " 25  Total.Minor.Injuries    76956 non-null  float64\n",
      " 26  Total.Uninjured         82977 non-null  float64\n",
      " 27  Weather.Condition       84397 non-null  object \n",
      " 28  Broad.phase.of.flight   61724 non-null  object \n",
      " 29  Report.Status           82505 non-null  object \n",
      " 30  Publication.Date        75118 non-null  object \n",
      "dtypes: float64(5), object(26)\n",
      "memory usage: 21.0+ MB\n"
     ]
    }
   ],
   "source": [
    "#A list of the categories included in the dataset \n",
    "df.info()"
   ]
  },
  {
   "cell_type": "markdown",
   "metadata": {},
   "source": [
    "This dataset contains 31 columns with various categories and data points, and a total of 88,888 total recorded incidents. "
   ]
  },
  {
   "cell_type": "code",
   "execution_count": 5,
   "metadata": {},
   "outputs": [],
   "source": [
    "#cleaning up column names for easier handling\n",
    "df.columns = [col.replace('.', ' ').lower() for col in df.columns]\n",
    "df.rename(columns={'report status': 'cause of event'}, inplace=True)\n",
    "df.rename(columns={'investigation type': 'event type'}, inplace=True)\n",
    "\n",
    "#making all the data lowercase to streamline filtering for duplicate values and working with data\n",
    "df = df.applymap(lambda x: x.lower() if type(x)== str else x)"
   ]
  },
  {
   "cell_type": "code",
   "execution_count": 6,
   "metadata": {},
   "outputs": [
    {
     "data": {
      "text/plain": [
       "event id                      0\n",
       "event type                    0\n",
       "accident number               0\n",
       "event date                    0\n",
       "location                     52\n",
       "country                     226\n",
       "latitude                  54507\n",
       "longitude                 54516\n",
       "airport code              38757\n",
       "airport name              36185\n",
       "injury severity            1000\n",
       "aircraft damage            3194\n",
       "aircraft category         56602\n",
       "registration number        1382\n",
       "make                         63\n",
       "model                        92\n",
       "amateur built               102\n",
       "number of engines          6084\n",
       "engine type                7096\n",
       "far description           56866\n",
       "schedule                  76307\n",
       "purpose of flight          6192\n",
       "air carrier               72241\n",
       "total fatal injuries      11401\n",
       "total serious injuries    12510\n",
       "total minor injuries      11933\n",
       "total uninjured            5912\n",
       "weather condition          4492\n",
       "broad phase of flight     27165\n",
       "cause of event             6384\n",
       "publication date          13771\n",
       "dtype: int64"
      ]
     },
     "execution_count": 6,
     "metadata": {},
     "output_type": "execute_result"
    }
   ],
   "source": [
    "df.isna().sum()"
   ]
  },
  {
   "cell_type": "markdown",
   "metadata": {},
   "source": [
    "# Data Preparation"
   ]
  },
  {
   "cell_type": "markdown",
   "metadata": {},
   "source": [
    "## Removing Superfluous Data"
   ]
  },
  {
   "cell_type": "markdown",
   "metadata": {},
   "source": [
    "To clean up the data I remove columns that are redundant or don't effect safety specifically related to our use case, namely small professionally-built aircraft, and how weather and human error affects safety."
   ]
  },
  {
   "cell_type": "code",
   "execution_count": 7,
   "metadata": {},
   "outputs": [],
   "source": [
    "#dropping irrelevant or redundant columns\n",
    "df=df.drop(['event id', 'accident number', 'event date', 'location', 'country', 'latitude', 'longitude', \n",
    "            'airport code', 'airport name', 'injury severity', 'aircraft damage', 'registration number', \n",
    "            'make', 'model','far description', 'schedule', 'purpose of flight', 'air carrier',\n",
    "            'broad phase of flight', 'publication date'], axis =1)"
   ]
  },
  {
   "cell_type": "code",
   "execution_count": 8,
   "metadata": {},
   "outputs": [
    {
     "data": {
      "text/plain": [
       "amateur built\n",
       "no     23480\n",
       "yes     3241\n",
       "Name: count, dtype: int64"
      ]
     },
     "execution_count": 8,
     "metadata": {},
     "output_type": "execute_result"
    }
   ],
   "source": [
    "#droping null values in aircraft category, and removing planes that aren't confirmed to be professionally built.\n",
    "\n",
    "df = df.dropna(subset=['aircraft category','amateur built', 'engine type'])\n",
    "#We only want professionally built planes\n",
    "df['amateur built'].value_counts()"
   ]
  },
  {
   "cell_type": "code",
   "execution_count": 9,
   "metadata": {},
   "outputs": [],
   "source": [
    "df=df[df['amateur built']=='no']"
   ]
  },
  {
   "cell_type": "code",
   "execution_count": 10,
   "metadata": {},
   "outputs": [],
   "source": [
    "#Now that only professionally-built aircraft are in the df, we can drop the 'amateur built' column\n",
    "df = df.drop(['amateur built'], axis=1)"
   ]
  },
  {
   "cell_type": "code",
   "execution_count": 11,
   "metadata": {},
   "outputs": [
    {
     "data": {
      "text/plain": [
       "event type                   0\n",
       "aircraft category            0\n",
       "number of engines          657\n",
       "engine type                  0\n",
       "total fatal injuries      3058\n",
       "total serious injuries    3072\n",
       "total minor injuries      2736\n",
       "total uninjured            741\n",
       "weather condition          820\n",
       "cause of event            1412\n",
       "dtype: int64"
      ]
     },
     "execution_count": 11,
     "metadata": {},
     "output_type": "execute_result"
    }
   ],
   "source": [
    "df.isna().sum()"
   ]
  },
  {
   "cell_type": "markdown",
   "metadata": {},
   "source": [
    "## Type of Aircraft"
   ]
  },
  {
   "cell_type": "markdown",
   "metadata": {},
   "source": [
    "We aren't interested in unusual aircraft, and helicopters are inconvenient for business travel, so we only include airplanes in our analysis. "
   ]
  },
  {
   "cell_type": "code",
   "execution_count": 12,
   "metadata": {},
   "outputs": [
    {
     "data": {
      "text/plain": [
       "aircraft category\n",
       "airplane             20461\n",
       "helicopter            2618\n",
       "weight-shift           128\n",
       "glider                 112\n",
       "powered parachute       78\n",
       "balloon                 36\n",
       "gyrocraft               26\n",
       "ultralight              11\n",
       "blimp                    4\n",
       "powered-lift             2\n",
       "unknown                  2\n",
       "rocket                   1\n",
       "wsft                     1\n",
       "Name: count, dtype: int64"
      ]
     },
     "execution_count": 12,
     "metadata": {},
     "output_type": "execute_result"
    }
   ],
   "source": [
    "df['aircraft category'].value_counts()"
   ]
  },
  {
   "cell_type": "code",
   "execution_count": 13,
   "metadata": {},
   "outputs": [],
   "source": [
    "# leaving airplanes as the only aircraft category\n",
    "df=df[df['aircraft category']=='airplane']"
   ]
  },
  {
   "cell_type": "markdown",
   "metadata": {},
   "source": [
    "## Passenger Information|\n",
    "\n",
    "Our team wants to maximize safetey, so we want to analyze fatal injuries and serious injuries as one column to compare to other categories."
   ]
  },
  {
   "cell_type": "code",
   "execution_count": 14,
   "metadata": {},
   "outputs": [],
   "source": [
    "#find total passengers on each plane, and create a new column that includes serious and fatal injuries\n",
    "\n",
    "df['combined serious injuries']= df[['total fatal injuries', 'total serious injuries']].sum(axis =1)"
   ]
  },
  {
   "cell_type": "code",
   "execution_count": 15,
   "metadata": {},
   "outputs": [],
   "source": [
    "#create a new column showing if there were any fatal injuries, or none, in an event\n",
    "\n",
    "df['has serious injuries'] = df['combined serious injuries'] > 0\n",
    "\n"
   ]
  },
  {
   "cell_type": "code",
   "execution_count": 16,
   "metadata": {},
   "outputs": [
    {
     "data": {
      "text/plain": [
       "has serious injuries\n",
       "False    14464\n",
       "True      5997\n",
       "Name: count, dtype: int64"
      ]
     },
     "execution_count": 16,
     "metadata": {},
     "output_type": "execute_result"
    }
   ],
   "source": [
    "df['has serious injuries'].value_counts()"
   ]
  },
  {
   "cell_type": "markdown",
   "metadata": {},
   "source": [
    "## Type of Engine\n",
    "\n",
    "I want to see how safety is affected by engine type, so I clean up related categories. \n",
    "\n",
    "\n"
   ]
  },
  {
   "cell_type": "code",
   "execution_count": 17,
   "metadata": {},
   "outputs": [
    {
     "data": {
      "text/plain": [
       "number of engines\n",
       "1.0    16838\n",
       "2.0     2943\n",
       "4.0       74\n",
       "3.0       47\n",
       "0.0        7\n",
       "8.0        1\n",
       "Name: count, dtype: int64"
      ]
     },
     "execution_count": 17,
     "metadata": {},
     "output_type": "execute_result"
    }
   ],
   "source": [
    "df['number of engines'].value_counts()"
   ]
  },
  {
   "cell_type": "code",
   "execution_count": 18,
   "metadata": {},
   "outputs": [],
   "source": [
    "#Our tech company doesn't have a large team, so \n",
    "\n",
    "df=df[df['number of engines'].isin([1.0, 2.0])]"
   ]
  },
  {
   "cell_type": "code",
   "execution_count": 19,
   "metadata": {},
   "outputs": [
    {
     "data": {
      "text/plain": [
       "engine type\n",
       "reciprocating      17533\n",
       "turbo prop          1272\n",
       "turbo fan            796\n",
       "turbo jet            136\n",
       "unknown               20\n",
       "geared turbofan       11\n",
       "turbo shaft           10\n",
       "electric               2\n",
       "unk                    1\n",
       "Name: count, dtype: int64"
      ]
     },
     "execution_count": 19,
     "metadata": {},
     "output_type": "execute_result"
    }
   ],
   "source": [
    "df['engine type'].value_counts()"
   ]
  },
  {
   "cell_type": "markdown",
   "metadata": {},
   "source": []
  },
  {
   "cell_type": "code",
   "execution_count": 20,
   "metadata": {},
   "outputs": [],
   "source": [
    "# renaming 'reciprocating' engine to the more common term 'piston'\n",
    "# removing unknown engine types\n",
    "df['engine type'] = df['engine type'].replace({'reciprocating': 'piston'})\n",
    "df= df[df['engine type']!= 'unk']"
   ]
  },
  {
   "cell_type": "markdown",
   "metadata": {},
   "source": [
    "# Exploratory Data Analysis"
   ]
  },
  {
   "cell_type": "code",
   "execution_count": 21,
   "metadata": {},
   "outputs": [
    {
     "name": "stdout",
     "output_type": "stream",
     "text": [
      "<class 'pandas.core.frame.DataFrame'>\n",
      "Index: 19780 entries, 5 to 88767\n",
      "Data columns (total 12 columns):\n",
      " #   Column                     Non-Null Count  Dtype  \n",
      "---  ------                     --------------  -----  \n",
      " 0   event type                 19780 non-null  object \n",
      " 1   aircraft category          19780 non-null  object \n",
      " 2   number of engines          19780 non-null  float64\n",
      " 3   engine type                19780 non-null  object \n",
      " 4   total fatal injuries       17209 non-null  float64\n",
      " 5   total serious injuries     17198 non-null  float64\n",
      " 6   total minor injuries       17485 non-null  float64\n",
      " 7   total uninjured            19218 non-null  float64\n",
      " 8   weather condition          19232 non-null  object \n",
      " 9   cause of event             18821 non-null  object \n",
      " 10  combined serious injuries  19780 non-null  float64\n",
      " 11  has serious injuries       19780 non-null  bool   \n",
      "dtypes: bool(1), float64(6), object(5)\n",
      "memory usage: 1.8+ MB\n"
     ]
    }
   ],
   "source": [
    "df.info()"
   ]
  },
  {
   "cell_type": "code",
   "execution_count": 22,
   "metadata": {},
   "outputs": [
    {
     "data": {
      "image/png": "[encoded data removed]",
      "text/plain": [
       "<Figure size 720x432 with 1 Axes>"
      ]
     },
     "metadata": {
      "needs_background": "light"
     },
     "output_type": "display_data"
    }
   ],
   "source": [
    "injuries_by_engine_type = df.groupby(['engine type', 'has serious injuries']).size().unstack(fill_value=0)\n",
    "injuries_by_engine_type = injuries_by_engine_type.rename(columns={True: '1 or more', False: 'None'})\n",
    "\n",
    "\n",
    "# Create a bar plot\n",
    "injuries_by_engine_type.plot(kind='bar', figsize=(10, 6))\n",
    "\n",
    "# Add labels and title\n",
    "plt.title('Serious Injuries by Engine Type')\n",
    "plt.xlabel('Engine Type')\n",
    "plt.xticks(rotation=45, ha='right')\n",
    "plt.ylabel('Count')\n",
    "plt.legend(title='Serious Injuries')\n",
    "plt.tight_layout()\n",
    "plt.show()\n",
    "\n"
   ]
  },
  {
   "cell_type": "markdown",
   "metadata": {},
   "source": [
    "## Weather"
   ]
  },
  {
   "cell_type": "code",
   "execution_count": 23,
   "metadata": {},
   "outputs": [
    {
     "data": {
      "text/plain": [
       "weather condition\n",
       "vmc    17884\n",
       "imc     1169\n",
       "unk      179\n",
       "Name: count, dtype: int64"
      ]
     },
     "execution_count": 23,
     "metadata": {},
     "output_type": "execute_result"
    }
   ],
   "source": [
    "df['weather condition'].value_counts()"
   ]
  },
  {
   "cell_type": "code",
   "execution_count": 24,
   "metadata": {},
   "outputs": [],
   "source": [
    "df=df[~df['weather condition'].isin(['unk'])]\n",
    "df['weather condition']=df['weather condition'].str.upper()"
   ]
  },
  {
   "cell_type": "markdown",
   "metadata": {},
   "source": [
    "### IMC and VMC \n",
    "\n",
    "VMC, or Visual Meteorological Conditions, are conditions considered safe to navigate by using visual reference to the ground and other landmarks. \n",
    "\n",
    "IMC, or Instrument Meteorological Conditions, require navigational equipment, and pilots must be IFR-rated, as well as the aircraft.\n",
    "\n",
    "I compared serious injuries by weather conditions in the data. \n",
    "\n"
   ]
  },
  {
   "cell_type": "code",
   "execution_count": 25,
   "metadata": {
    "scrolled": true
   },
   "outputs": [
    {
     "data": {
      "image/png": "[encoded data removed]",
      "text/plain": [
       "<Figure size 720x432 with 1 Axes>"
      ]
     },
     "metadata": {
      "needs_background": "light"
     },
     "output_type": "display_data"
    }
   ],
   "source": [
    "# Count True/False for serious injuries per weather condition\n",
    "serious_flags = df.groupby(['weather condition', 'has serious injuries']).size().unstack(fill_value=0)\n",
    "\n",
    "# Rename columns for clarity\n",
    "serious_flags.rename(columns={True: 'Serious injuries', False: 'Minor or no injuries'}, inplace=True)\n",
    "\n",
    "\n",
    "color_list = ['green', 'darkorange']  # Match order of columns\n",
    "serious_flags = serious_flags[['Serious injuries', 'Minor or no injuries']]\n",
    "\n",
    "\n",
    "serious_flags.plot(kind='bar', stacked=False, color=color_list, figsize=(10, 6))\n",
    "\n",
    "plt.xlabel('Weather Condition')\n",
    "plt.ylabel('Serious Injuries')\n",
    "plt.title('Serious Injuries by Weather Condition')\n",
    "plt.xticks(rotation=45, ha='right')\n",
    "plt.legend(title='Injury Severity')\n",
    "plt.tight_layout()\n",
    "plt.show()\n",
    "\n"
   ]
  },
  {
   "cell_type": "code",
   "execution_count": 27,
   "metadata": {},
   "outputs": [
    {
     "name": "stdout",
     "output_type": "stream",
     "text": [
      "<class 'pandas.core.frame.DataFrame'>\n",
      "RangeIndex: 19601 entries, 0 to 19600\n",
      "Data columns (total 12 columns):\n",
      " #   Column                     Non-Null Count  Dtype  \n",
      "---  ------                     --------------  -----  \n",
      " 0   event type                 19601 non-null  object \n",
      " 1   aircraft category          19601 non-null  object \n",
      " 2   number of engines          19601 non-null  float64\n",
      " 3   engine type                19601 non-null  object \n",
      " 4   total fatal injuries       17033 non-null  float64\n",
      " 5   total serious injuries     17021 non-null  float64\n",
      " 6   total minor injuries       17310 non-null  float64\n",
      " 7   total uninjured            19042 non-null  float64\n",
      " 8   weather condition          19053 non-null  object \n",
      " 9   cause of event             18679 non-null  object \n",
      " 10  combined serious injuries  19601 non-null  float64\n",
      " 11  has serious injuries       19601 non-null  bool   \n",
      "dtypes: bool(1), float64(6), object(5)\n",
      "memory usage: 1.7+ MB\n"
     ]
    }
   ],
   "source": [
    "df= df.reset_index(drop=True)\n",
    "df.info()"
   ]
  },
  {
   "cell_type": "code",
   "execution_count": null,
   "metadata": {},
   "outputs": [],
   "source": []
  },
  {
   "cell_type": "markdown",
   "metadata": {},
   "source": [
    "# Exploratory Data Analysis"
   ]
  },
  {
   "cell_type": "code",
   "execution_count": 28,
   "metadata": {},
   "outputs": [],
   "source": [
    "#Getting a closer look at 'cause of event' to visually check for trends. \n",
    "#Removing 'probable cause' rows as this seems to be a placeholder value.\n",
    "filled_reports = df[df['cause of event']!= 'probable cause']['cause of event']"
   ]
  },
  {
   "cell_type": "markdown",
   "metadata": {},
   "source": [
    "Scanning some of the entries, I notice trends in wording that are fairly consistent. Using common phrases found in probably cause, I filter the values by human error and by other causes (engine malfunction, collisions with animals, ice, etc."
   ]
  },
  {
   "cell_type": "code",
   "execution_count": 29,
   "metadata": {},
   "outputs": [],
   "source": [
    "#Filtering 'cause of event' by pilot error\n",
    "human_error = df.loc[df['cause of event'].str.contains('pilot|crew|mechanic|instructor|captain|loss of directional control|maintenance', case=False, na=False), 'cause of event']\n"
   ]
  },
  {
   "cell_type": "code",
   "execution_count": 31,
   "metadata": {},
   "outputs": [],
   "source": [
    "# Create a new column that marks whether the cause is likely related to human error\n",
    "df['has_human_error'] = df['cause of event'].str.contains(\n",
    "    'pilot|crew|mechanic|instructor|captain|loss of directional control|maintenance',\n",
    "    case=False,\n",
    "    na=False\n",
    ")\n"
   ]
  },
  {
   "cell_type": "code",
   "execution_count": 32,
   "metadata": {},
   "outputs": [
    {
     "data": {
      "text/plain": [
       "has_human_error\n",
       "True     10563\n",
       "False     9038\n",
       "Name: count, dtype: int64"
      ]
     },
     "execution_count": 32,
     "metadata": {},
     "output_type": "execute_result"
    }
   ],
   "source": [
    "df['has_human_error'].value_counts()"
   ]
  },
  {
   "cell_type": "code",
   "execution_count": 33,
   "metadata": {},
   "outputs": [],
   "source": [
    "human_and_weather_error = df.loc[df['cause of event'].str.contains('pilot|wind|gust|weather|visibility|visible|visual|ice|turbulence|turbulent|fog|dark|viually|storm|rain|snow|meteorological|conditions|icing', \n",
    "    case=False, na=False), 'cause of event']"
   ]
  },
  {
   "cell_type": "code",
   "execution_count": 34,
   "metadata": {},
   "outputs": [],
   "source": [
    "df['has_human_weather_error'] = df['cause of event'].str.contains(\n",
    "    'pilot|wind|gust|weather|visibility|visible|visual|ice|turbulence|turbulent|fog|dark|viually|storm|rain|snow|meteorological|conditions|icing',\n",
    "    case=False,\n",
    "    na=False)\n"
   ]
  },
  {
   "cell_type": "code",
   "execution_count": 35,
   "metadata": {},
   "outputs": [
    {
     "data": {
      "text/plain": [
       "has_human_weather_error\n",
       "True     10275\n",
       "False     9326\n",
       "Name: count, dtype: int64"
      ]
     },
     "execution_count": 35,
     "metadata": {},
     "output_type": "execute_result"
    }
   ],
   "source": [
    "df['has_human_weather_error'].value_counts()"
   ]
  },
  {
   "cell_type": "code",
   "execution_count": 36,
   "metadata": {},
   "outputs": [
    {
     "data": {
      "image/png": "[encoded data removed]",
      "text/plain": [
       "<Figure size 720x432 with 1 Axes>"
      ]
     },
     "metadata": {
      "needs_background": "light"
     },
     "output_type": "display_data"
    }
   ],
   "source": [
    "human_error_by_engine = df.groupby(['engine type', 'has_human_error']).size().unstack(fill_value=0)\n",
    "\n",
    "# Rename the columns clarity\n",
    "human_error_by_engine.columns = ['No Human Error', 'Human Error']\n",
    "\n",
    "\n",
    "human_error_by_engine.plot(kind='bar', figsize=(10, 6))\n",
    "\n",
    "plt.title('Human Error vs Engine Type')\n",
    "plt.xlabel('Engine Type')\n",
    "plt.ylabel('Number of Accidents')\n",
    "\n",
    "plt.xticks(rotation=45, ha='right')\n",
    "plt.legend(title='Human Error Presence')\n",
    "\n",
    "plt.tight_layout()\n",
    "plt.show()\n"
   ]
  },
  {
   "cell_type": "code",
   "execution_count": 38,
   "metadata": {},
   "outputs": [],
   "source": [
    "df.to_csv('filtered_aviation_data.csv')"
   ]
  },
  {
   "cell_type": "markdown",
   "metadata": {},
   "source": [
    "## Conclusions"
   ]
  },
  {
   "cell_type": "markdown",
   "metadata": {},
   "source": [
    "Piston Engines have a lower percentage of serious injuries compared turbo fan or turbo prop engines. \n",
    "\n",
    "Human error and weather contribute to risk of serious injury. If we hire an aviation team, we should have high maintenance and safety standards and consider cancelling travel during inclement weather. We should do more research on how the chance of human error related to flying can be offset by quality training and experience."
   ]
  },
  {
   "cell_type": "markdown",
   "metadata": {},
   "source": [
    "## Limitations"
   ]
  },
  {
   "cell_type": "markdown",
   "metadata": {},
   "source": [
    "We don't have data that compares crashes to total flights, which might reverse some of the trends in this dataset. \n",
    "\n",
    "While piston engines seem safer, we don't know why that's true, which could affect our safety strategy for an aviation team. This also may not hold true when looking at a larger, more comprehensive data set about air travel."
   ]
  },
  {
   "cell_type": "markdown",
   "metadata": {},
   "source": [
    "# Next Steps"
   ]
  },
  {
   "cell_type": "markdown",
   "metadata": {},
   "source": [
    "**Human error and weather** have a large contribution to risk of serious injury. If we hire an aviation team, we should have high maintenance and safety standards and consider cancelling travel during inclement weather. \n",
    "\n",
    "\n",
    "**Compare crash data** to a larger dataset about flight and air travel.\n",
    "\n",
    "\n",
    "**Do more research** on how effective pilot and personnel training to reduce risk."
   ]
  }
 ],
 "metadata": {
  "kernelspec": {
   "display_name": "Python (learn-env)",
   "language": "python",
   "name": "learn-env"
  },
  "language_info": {
   "codemirror_mode": {
    "name": "ipython",
    "version": 3
   },
   "file_extension": ".py",
   "mimetype": "text/x-python",
   "name": "python",
   "nbconvert_exporter": "python",
   "pygments_lexer": "ipython3",
   "version": "3.8.5"
  }
 },
 "nbformat": 4,
 "nbformat_minor": 4
}
